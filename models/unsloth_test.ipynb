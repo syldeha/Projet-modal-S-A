{
 "cells": [
  {
   "cell_type": "code",
   "execution_count": 30,
   "metadata": {},
   "outputs": [],
   "source": [
    "# %%capture\n",
    "# !pip install unsloth\n",
    "# # Also get the latest nightly Unsloth!\n",
    "# !pip uninstall unsloth -y && pip install --upgrade --no-cache-dir --no-deps git+https://github.com/unslothai/unsloth.git"
   ]
  },
  {
   "cell_type": "code",
   "execution_count": 35,
   "metadata": {},
   "outputs": [],
   "source": [
    "from unsloth import FastVisionModel # FastLanguageModel for LLMs\n",
    "import torch\n"
   ]
  },
  {
   "cell_type": "code",
   "execution_count": 36,
   "metadata": {},
   "outputs": [
    {
     "name": "stdout",
     "output_type": "stream",
     "text": [
      "==((====))==  Unsloth 2025.4.7: Fast Qwen2_Vl patching. Transformers: 4.51.3.\n",
      "   \\\\   /|    NVIDIA RTX A2000 12GB. Num GPUs = 1. Max memory: 11.614 GB. Platform: Linux.\n",
      "O^O/ \\_/ \\    Torch: 2.7.0+cu126. CUDA: 8.6. CUDA Toolkit: 12.6. Triton: 3.3.0\n",
      "\\        /    Bfloat16 = TRUE. FA [Xformers = 0.0.30. FA2 = False]\n",
      " \"-____-\"     Free license: http://github.com/unslothai/unsloth\n",
      "Unsloth: Fast downloading is enabled - ignore downloading bars which are red colored!\n"
     ]
    }
   ],
   "source": [
    "model, tokenizer = FastVisionModel.from_pretrained(\n",
    "    \"unsloth/Qwen2-VL-2B-Instruct-bnb-4bit\",\n",
    "    load_in_4bit = True, # Use 4bit to reduce memory use. False for 16bit LoRA.\n",
    "    use_gradient_checkpointing = \"unsloth\", # True or \"unsloth\" for long context\n",
    ")"
   ]
  },
  {
   "cell_type": "code",
   "execution_count": 10,
   "metadata": {},
   "outputs": [
    {
     "name": "stdout",
     "output_type": "stream",
     "text": [
      "Unsloth: Making `model.base_model.model.model` require gradients\n"
     ]
    }
   ],
   "source": [
    "model = FastVisionModel.get_peft_model(\n",
    "    model,\n",
    "    finetune_vision_layers     = False, # False if not finetuning vision layers\n",
    "    finetune_language_layers   = True, # False if not finetuning language layers\n",
    "    finetune_attention_modules = True, # False if not finetuning attention layers\n",
    "    finetune_mlp_modules       = True, # False if not finetuning MLP layers\n",
    "\n",
    "    r = 16,           # The larger, the higher the accuracy, but might overfit\n",
    "    lora_alpha = 16,  # Recommended alpha == r at least\n",
    "    lora_dropout = 0,\n",
    "    bias = \"none\",\n",
    "    random_state = 3407,\n",
    "    use_rslora = False,  # We support rank stabilized LoRA\n",
    "    loftq_config = None, # And LoftQ\n",
    "    # target_modules = \"all-linear\", # Optional now! Can specify a list if needed\n",
    ")"
   ]
  },
  {
   "cell_type": "code",
   "execution_count": 37,
   "metadata": {},
   "outputs": [],
   "source": [
    "import sys\n",
    "sys.path.append('/users/eleves-b/2023/sylvain.dehayem-kenfouo/projet_final_modal')\n",
    "from data.dataset import Dataset\n",
    "from data.datamodule import DataModule"
   ]
  },
  {
   "cell_type": "code",
   "execution_count": 38,
   "metadata": {},
   "outputs": [],
   "source": [
    "# _target_: torchvision.transforms.Compose\n",
    "# transforms:\n",
    "#   - _target_: torchvision.transforms.Resize\n",
    "#     size: [224, 224]\n",
    "#   - _target_: torchvision.transforms.RandomHorizontalFlip\n",
    "#   - _target_: torchvision.transforms.ToTensor\n",
    "#   - _target_: torchvision.transforms.Normalize\n",
    "#     mean: [0.485, 0.456, 0.406]\n",
    "#     std: [0.229, 0.224, 0.225]\n",
    "import torchvision\n",
    "from torchvision import transforms\n",
    "train_transform = torchvision.transforms.Compose([\n",
    "    torchvision.transforms.Resize(224),\n",
    "    torchvision.transforms.RandomHorizontalFlip(),\n",
    "    torchvision.transforms.ToTensor(),\n",
    "    torchvision.transforms.Normalize(mean=[0.485, 0.456, 0.406], std=[0.229, 0.224, 0.225])\n",
    "])\n",
    "val_transform = torchvision.transforms.Compose([\n",
    "    torchvision.transforms.Resize(224),\n",
    "    torchvision.transforms.ToTensor(),\n",
    "    # torchvision.transforms.Normalize(mean=[0.485, 0.456, 0.406], std=[0.229, 0.224, 0.225])\n",
    "])"
   ]
  },
  {
   "cell_type": "code",
   "execution_count": 39,
   "metadata": {},
   "outputs": [
    {
     "name": "stdout",
     "output_type": "stream",
     "text": [
      "../dataset/train_val.csv\n"
     ]
    },
    {
     "name": "stderr",
     "output_type": "stream",
     "text": [
      "2025-05-12 06:04:22,667 - INFO - train set (until 2022): {'high': 43.65367180417044, 'viral': 22.65034753702025, 'medium': 20.9579933514657, 'top': 8.64309459051073, 'low': 4.09489271683288}\n",
      "2025-05-12 06:04:22,668 - INFO - val set (from 2023): {'medium': 38.02315227070348, 'high': 36.01959038290294, 'viral': 14.33659839715049, 'low': 7.079252003561888, 'top': 4.541406945681211}\n"
     ]
    },
    {
     "name": "stdout",
     "output_type": "stream",
     "text": [
      "../dataset/train_val.csv\n"
     ]
    },
    {
     "name": "stderr",
     "output_type": "stream",
     "text": [
      "2025-05-12 06:04:26,030 - INFO - train set (until 2022): {'high': 43.65367180417044, 'viral': 22.65034753702025, 'medium': 20.9579933514657, 'top': 8.64309459051073, 'low': 4.09489271683288}\n",
      "2025-05-12 06:04:26,031 - INFO - val set (from 2023): {'medium': 38.02315227070348, 'high': 36.01959038290294, 'viral': 14.33659839715049, 'low': 7.079252003561888, 'top': 4.541406945681211}\n"
     ]
    },
    {
     "name": "stdout",
     "output_type": "stream",
     "text": [
      "../dataset/train_val.csv\n"
     ]
    },
    {
     "name": "stderr",
     "output_type": "stream",
     "text": [
      "2025-05-12 06:04:29,467 - INFO - train set (until 2022): {'high': 43.65367180417044, 'viral': 22.65034753702025, 'medium': 20.9579933514657, 'top': 8.64309459051073, 'low': 4.09489271683288}\n",
      "2025-05-12 06:04:29,468 - INFO - val set (from 2023): {'medium': 38.02315227070348, 'high': 36.01959038290294, 'viral': 14.33659839715049, 'low': 7.079252003561888, 'top': 4.541406945681211}\n"
     ]
    }
   ],
   "source": [
    "import sys\n",
    "# sys.path.append('/users/eleves-b/2023/sylvain.dehayem-kenfouo/projet_final_modal')\n",
    "train_loader = DataModule(\n",
    "    dataset_path = \"../dataset\",\n",
    "    train_transform=train_transform,\n",
    "    test_transform=val_transform,\n",
    "    batch_size=16,\n",
    "    num_workers=4,\n",
    "    metadata=[\"title\"]\n",
    ").train_dataloader()\n",
    "\n"
   ]
  },
  {
   "cell_type": "code",
   "execution_count": 29,
   "metadata": {},
   "outputs": [
    {
     "data": {
      "text/plain": [
       "['Title: CGI Animated Breakdown : \"Rob \"n\" Ron - Tour de Animation\" - by Tumblehead\\nChannel: channel1\\nYear: 2014\\nDescription: Lars Ellingbø of Tumblehead show the animation process for one of his shots from Rob \"n\" Ron. We start with an animatic (here we lock acting and timing) and then go over to 3D layout - blocking - blocking plus, then finally turn the keys over to spline and add the final polishing touches. Music by Peter Smith. Visit for more \"making of\" material. Homepage: Facebook: Twitter: Watch \"Rob \"n\" Ron\": Watch the \"Making of\":',\n",
       " 'Title: Preyashi | প্রেয়সী | Old Bengali Movie | Full HD | Soumitra Chatterjee, Arati Bhattacharya\\nChannel: channel7\\nYear: 2021\\nDescription: Presenting the Bengali full movie Preyashi : পরয়স বল ছব on YouTube. The Bengali Film Preyashi was released in the year 1982, Directed by Srikanto Guha Thakurta, starring Soumitra Chatterjee, Arati Bhattacharya, Dilip Roy, Bikash Roy, Shubhendu Chattopadhyay, Satya Banerjee, Kali Banerjee Others. Download Our App Now : Android : iOS : Web : Movie : Preyashi Language : Bengali Genre : Classic, Romance Producer : Srikanto Guha Thakurta Director : Srikanto Guha Thakurta Story : Bimal Mitra Music Director : Manna Dey Lyricist : Gauri Prasanna Mazumder Playback : Manna Dey, Asha Bhosle, Nirmala Mishra, Soumitra Chatterjee, Bhanu Bandopadhyay Release : 1982 Star Cast : Soumitra Chatterjee, Arati Bhattacharya, Dilip Roy, Bikash Roy, Shubhendu Chattopadhyay, Satya Banerjee, Kali Banerjee, Ajitesh Bandopadhyay, Tarun Kumar, Bhanu Bandopadhyay, Anup Kumar, Chinmoy Roy, Shailen Mukherjee, Biplab Chatterjee, Mrinal Mukherjee, Khudiram Bhattacharya, Gita Dey, Aloka Ganguly, Sandhya Das, Nandini Maliya, Mihir Pal, Samir Mukherjee, Rathin Basu, Master Swarnendu, Bhabatosh Banerjee Synopsis::: Preyosi is Sukantas story. Sukanta gives shelter to his fathers friend Bhudhar and his daughter Nandini. Sukanta and Nandini fall in love. Sukanta gets a job and goes out of station. But when he gets no news of Nandini and her father, he comes back and hears of Budhars death. Sukanata keeps searching Nandini but in vain. He gets transferred to Delhi where he catches Mr. Ganguly for corruption in railways. Nandini turns out to be Gangulys wife and begs Sukanta to set him free. Sukanta lies in court to save Ganguly. But he is shattered and becomes alcoholic. He meets Ranu, Nandinis twin sister in Kashi who was forced into prostitution. Ranu falls in love with him. Ranu goes to Delhi to find her twin sister. But, Nandini cares for no one but her family. Sukanta overhears their conversation and decides to start his life again with Ranu. Click here to watch more videos...........!!!!!!!!!!!!!!!!! Nishi Mrigaya Thriller Movie Full HD : Enjoy and stay connected with us!! Official Website Instagram Twitter',\n",
       " 'Title: One Minute Short Film Winners (Second Stay at Home Challenge)\\nChannel: channel8\\nYear: 2020\\nDescription: ----WINNERS---- Xenia Leblanc Cody Victor Tim Litwinschuh ----RUNNER UPS---- Chad Sano Pokin Tulapraprut ido israeli Nick Szubart Andreas Madsen Nicholas Shaheen Elvis Tyson-Dieroff Owen Tuson Clara Kokseby Julien Lagrange ----THE NEW CHALLENGE---- Make a 60 second short and upload it here: Get 30 days of Musicbed Free: ----RULES---- No longer than 60 seconds Must take place at your residence. Outside is allowed only on your own property. Contest ends May 7th 11pm CT Can be any genre (including animation) -----3 WINNERS WILL RECEIVE---- Adobe: 1-year creative cloud Cine Tracer Filmic Pro Red Giant: Red Giant Complete Triune Digital: 500 Coupon for digital products Shot Lister Video Copilot: Ultra Studio Bundle MZED: Pro Premium Membership Accusonus: ERA 4 Bundle -----FREEBIES----- Our Free Assets ----FILM RIOT PODCAST---- ----------------------------------------------------------------- GEAR WE USE COLOR GRADING LUTs: SOUND FX: MUSIC: VFX ASSETS: CAMERAS: C300 mkII: A7s II: C100: LENSES: Rokinon: PLUG-INS: 15 off Mocha Pro. Use coupon code: filmriot AUDIO: NTG3: H4n Zoom: Zoom F8: TRIPOD: BV-10: ----------------------------------------------------------------- Connect with us: TWITTER: FilmRiot - Ryan - Josh - Ryan Thompson - Emily - Justin - FACEBOOK: Film Riot - Ryan - Josh - Ryan Thompson - INSTAGRAM Film Riot - Ryan - Josh - Ryan Thompson - Justin - WEBSITES: Ryan - Ryan Thompson - ----------------------------------------------------------------- Theme Song by Hello Control:',\n",
       " 'Title: Jaj Saheb | জজ সাহেব | Thriller Movie | Full HD | Prosenjit, Satabdi, Ranjit Mallick\\nChannel: channel7\\nYear: 2021\\nDescription: Watch the Bengali full movie Jaj Saheb : জজ সহব বল ছব on YouTube. The Bengali Film Jaj Saheb was released in the year 1989, Directed by Pijush Debnath, starring Prosenjit Chatterjee, Satabdi Roy, Ranjit Mallick, Utpal Dutt, Manoj Mitra, Sandhya Rani, Shakuntala Barua, Biplab Chatterjee Others. Download Our App Now : Android : iOS : Web : Movie : Jaj Saheb Language : Bengali Genre : Drama, Thriller Producer : Indrani Roy Director : Pijush Debnath Story : Pijush Debnath Music Director : Ajoy Das Lyricist : Pulak Bandyopadhyay Playback : Asha Bhosle, Amit Kumar Release : 1989 Star Cast : Prosenjit Chatterjee, Satabdi Roy, Ranjit Mallick, Utpal Dutt, Manoj Mitra, Sandhya Rani, Shakuntala Barua, Biplab Chatterjee, Sova Sen, Shekhar Chatterjee, Gyanesh Mukherjee, Ananda Mukherjee, Kalyani Mandal, Jiban Guha Synopsis::: Click here to watch more videos...........!!!!!!!!!!!!!!!!! Shatru Pakhha Action Movie Full HD : Enjoy and stay connected with us!! Official Website Instagram Twitter',\n",
       " 'Title: Kurzfilm über einen untröstlichen geschiedenen Vater | \"Alles wird gut\" - von Patrick Vollrath\\nChannel: channel2\\nYear: 2020\\nDescription: Dieser Kurzfilm wurde für den \"Best Live Action Short Film\" bei THE OSCARS 2016 nominiert. Ein geschiedener Vater holt seine achtjährige Tochter Lea ab. Es scheint so ziemlich wie jedes zweite Wochenende zu sein, aber nach einer Weile kann Lea das Gefühl nicht loswerden, dass etwas nicht stimmt. Abonniere den Kanal: Originaltitel - Alles wird gut (Everything will be okay) Regisseur - Patrick Vollrath Produzent - Patrick Vollrath Cast - Simon Schwarz, Julia Pointner, Marion Rottenhofer Jahr - 2015 Licensed by Premium Films',\n",
       " 'Title: CGI 3D Breakdown HD \"The Mysteries of Venice at night 3d Breakdown\" by Luciano Neves | CGMeetup\\nChannel: channel4\\nYear: 2016\\nDescription: The Mysteries of Venice 3d Breakdown I Misteri di Venezia at night by Luciano Neves. Featured on Luciano Neves This was made just to show the powerful of Vray render and 3DsMax. Director : Luciano Neves 3D Modeling: Carlos Florencio Arthur Duque Ivan Miskalo Moises Gomes Animation: Fernando Fracaroli Ivan Miskalo Rigging: Fernando Fracaroli Texturing: Carlos Florencio Arthur Duque George Damiani Shading Lighting: Luciano Neves Render Optimization: George Damiani Effects: Ivan Miskalo Composition: Luciano Neves Color Grading: Luciano Neves Watch More VFX Breakdowns, Making Of Behind The Scenes: About VFX Breakdowns, Making Of Behind The Scenes: Ever wondered how studios and artists do what they do? Take a look at our playlist featuring the making of, behind-the-scenes and breakdowns of 3D, CGI and VFX animations. Website: and YouTube Facebook Twitter Google Dailymotion Pinterest Instagram Contact us here Please Note: All videos are uploaded after written copyright permission from respected artists, studios or schools or part of the Creative Commons license. For more details or to dispute please contact us at ABOUT CGMeetup: CGMeetup is the inspiration resource for all CGI, VFX, 3D and Digital artists. We feature a wide variety of CGI content including behind-the-scenes, vfx breakdowns, short films showreels. CGMeetup also serves as networking resource for CGI Professionals. Professionals use CGMeetup to exchange ideas, knowledge job opportunities. CGI 3D Breakdown HD \"The Mysteries of Venice at night 3d Breakdown\" by Luciano Neves CGMeetup CGMeetup',\n",
       " 'Title: Sci-Fi Short Film: \"Pinki\" | DUST\\nChannel: channel9\\nYear: 2021\\nDescription: On a back street, a scrap monster makes a sudden lunge at a man. A pink-haired girl helps him, and their future is down to whether he remembers her. Pinki by Spike Hyunsuk Kim Connect with the Filmmaker: Spike Kim started his career as a music video director in South Korea. He expand his story telling skills based on Storyboard and concept Art in Movie industry. \"Pinki\" Credits: Taehwan:Han Sungchun Pinki: Kim Serin Monster: Lee Daekwang Young Taehwan: Jang Hojoon Taehwans sister: Kim Mina Junk Yard Worker:Alexandra Choi Pager Man: Kim Hyunsuk Script Writer: Kim Hyunsuk Director:Kim Hyunsuk Music: Lee Jeehyang Edit:Kim Hyunsuk Assit. Editor: Shin Soojung Lee Hyunkyung Producer: Choi Jisun Line producer: Gina S.H Lee Unit producer: Jung Sooyoon Lee Seoyun Assistant director: Kim Changhoon 2nd Asst, director: Alo Director og Photography: Jang Do hoon Asst, D.O.P: Lee Juyeon Park Hyeongsuh Song Seunghyun Focus Puller: Choi Jaegwang Drone Shooting: Choi Jintaek Jung Sooyoon DIT Supervisor: Oh Byungjoo Director of Lighting: Kim wansik Asst. Lighting: Ko Kyungeun Kim wangi Lim Joonkyu Kim Gyeounghoon Electricity Generator Vehicle: oh Changsuk Make up Supervisor: Song Jonghee Make up and Hair: Kim Byungsoo Monster Costume: Kim Hyunsuk Pinki Costume: Kim Selyun Concept Art:Kim Hyunsuk Samuel King Visual Effects Supervisor: Lu Andy Kim Dongsu Visual Effects Artist: Taewoo Kim Wenyen Li Chen shu Liang junling DIT Supervisor:Kim Hunjae Sound Supervisor: Ko Donghoon Boom Operator:Hyun Jeeyoon Colorist: Lee KyungJong Image mastering:Kim Janam Yoon Naeun Sound Supervisor:Lee Ingyu Sung Yoonyong Re-Recording Mixer: Lee Ingyu Lee Hojun Foley Artist: Jung jinsu Dialogue Editor: Lee Hojun Sound Designer: Lee Jihye Foley Editor: Kim Yeounji About DUST: DUST presents thought-provoking science fiction content, exploring the future of humanity through the lens of science and technology. From timeless classics to cutting-edge movies, series, short films, and podcasts, DUST acquires, produces and distributes all content types. Connect with DUST Website: Sign-up for DUST newsletter: Watch DUST on your TV: Available on Roku, Samsung TV, Apple TV, Android TV...and more Watch more on YouTube: Listen to the DUST podcast: Apple: Spotify: Stitcher: Castbox: iHeart: About Gunpowder Sky: Creating content that resonates and impacts pop culture conversation, by empowering creators to take risks and experiment relentlessly in the pursuit of novel stories and formats.',\n",
       " 'Title: Sci-fi Short Film \"SophiaWorld\" starring Westworld\\'s Evan Rachel Wood | DUST x Futurism\\nChannel: channel9\\nYear: 2019\\nDescription: Evan Rachel Wood and Sophia the Robot star in the short film \"SophiaWorld\" presented by DUST x Futurism. Learn more about Hanson Robotics, the team behind Sophia the Robot, one their website Find out what the future has in store for humanity at About DUST: DUST presents thought-provoking science fiction content, exploring the future of humanity through the lens of science and technology. From timeless classics to cutting-edge movies, series, short films, and podcasts, DUST acquires, produces and distributes all content types. Connect with DUST Website: Sign-up for DUST newsletter: Watch DUST on your TV: Available on Roku, Samsung TV, Apple TV, Android TV...and more Watch more on YouTube: Listen to the DUST podcast: Apple: Spotify: Stitcher: Castbox: iHeart: About Gunpowder Sky: Creating content that resonates and impacts pop culture conversation, by empowering creators to take risks and experiment relentlessly in the pursuit of novel stories and formats. Sci-fi Short Film \"SophiaWorld\" starring Westworld\\'s Evan Rachel Wood Presented by DUST',\n",
       " 'Title: London 2012 Olympic CGI Animated Particle Idents : Produced by Piranha Bar\\nChannel: channel1\\nYear: 2012\\nDescription: Piranha Bar has created an amazing particles based abstract spot for Cadbury Idents during the Olympic 2012 London Games. WOW!! From their website...\"We were delighted to work with Publicis Dublin on the inevitably high profile stings for RTE\"s Olympic coverage. Publicis have proved themselves masters of the challenging format in the past, and this time they invited Piranha Bar to create cutting edge abstract eye candy driven by athletic performance. Cadbury had already established a rich abstract world with their \"Icons\" campaign in Ireland where beautiful trails of chocolate, milk and foil interweave. PB DesignerDirector Shane Griffin delved into our Softimage ICE pipeline for the latest in particle effects and physics simulation, adding Olympic motion capture animation and taking in Quayola Memo Akten\"s great \"Forms\" piece along the way. The result is a dazzling world of glitter, crystal, shimmering geometry, swirling strands, balloons and balls that billow in the wake of an heroic sporting action. These are animated sculptures of Olympic athletes representing the fun, celebration, and visual excitement of the games, resulting in a Cadbury branded visual treat. Shane directed the motion capture shoot with our old friends Audio Motion in Oxford from the comfort of a couch in Piranha Bar. As well as having a live video stream to our talent, we were also able to simultaneously view the captured action in real time from 3 separate cameras in the studio, along with a 3D wireframe of our athlete via FTP. Selected action clips were then edited cropped live within our Internet browser window, and delivered back as 3D files. TV Sponsorship stings for RTE\"s coverage of the London 2012 Olympics. Credits Creative Director: Ronan Nulty Art Director: Dan O\"Neill Copywriter: Neil Saul Director: Shane Griffin Producer: Peter Greene Sound: Mutiny Agency Producer: Niamh Skelly Produced by Piranha Bar',\n",
       " 'Title: Schirkoa - Cortometraje distópico de Ishan Shukla (Mejor Cortometraje en el LA Shorts Fest)\\nChannel: channel2\\nYear: 2019\\nDescription: \"Schirkoa\" es el primer cortometraje de animación indio que se clasifica para los Oscar. Tras ganar el premio al \"Mejor Cortometraje de Animación\" en numerosos festivales, el cortometraje se clasificó para los premios de la Academia. En la ciudad de los \"Bagheads\", un senador tiene que tomar una difícil decisión: entre su carrera política, los burdeles o su amor por una mujer misteriosa. Su decisión transformará su vida y la de la ciudad de una forma inimaginable. Este cortometraje recibió los siguientes premios: - Película de animación Mejor película de animación American Movie Awards, 2017 - Premio del Jurado Mejor Cortometraje de Animación American Short Film Awards, 2016 - Premio del Jurado Festival Internacional de Cine de Tapiales, 2016 - Premio del Jurado Free Spirit Film Festival, 2016 - Mejor Animación L.A. Shorts Fest, 2016 - Festival de Cine Global Oaxaca, MX, 2016 - Premio del Festival de Animación por Computadora SIGGRAPH Asia, 2016 - Mejor Cortometraje de Animación Semana de Venecia, 2016 Suscríbase al canal: Director - Ishan Shukla Productor - Sharad Varma Animación - Yiming Lim, Milan Padhiyar, Nicholas Agatha Wiwobo, Ishan Shukla Voz - Kira Buckland Música - Nicolas Titeux Licensed by New Europe Film Sales',\n",
       " 'Title: CGI Animated Short : \"Sex and the Socket\" by Cesar Alejandro Montero Orozco\\nChannel: channel1\\nYear: 2013\\nDescription: Here is a creative CGI animated short by the talented Cesar Alejandro Montero Orozco! Cesar currently works for DreamWorks Animation as a Surfacing Artist. For more information or questions about this video please visit What was it for? My final project for the Digital Design program at Vancouver Film School . Everything in 3D was created and rendered on a single machine. The process of producing the piece was the following: render at home while I was at school, come home animate, more rendering by night, wake up early, refine the scene, start the render, go back to school. I did that for about 3 weeks CREDITS Cesar Montero: research, interviews, audience analysis, concept creation, planning, documentation, production, lighting, modeling, texturing, animation, soundfx.....etc. Sound by Chad York and Alan Wong-Moon. Voice is Andee Frizzell. Jennica Harper as writing consultant Chad York as mentor',\n",
       " 'Title: Out of Order | Short Horror Film | Screamfest\\nChannel: channel3\\nYear: 2021\\nDescription: Out Of Order premiered in Screamfest 2020. In 1946 New York City, three total strangers board their first-ever automatic elevator. When it lowers them into a strange world of darkness and danger, they must find a way to escape. Directed by: Brandon Cameron Laventure Produced by: Brandon Laventure and Alexander Wiske Written by: Brandon Cameron Laventure Main Cast: Aimé Donna Kelly Larry Bull Ian Unterman Screamfest Horror Film Festival is Americas largest and longest running horror film festival. The festival runs for 10 days in October in Los Angeles. Screamfest, has launched careers - providing a platform for filmmakers and actors to showcase their latest work to enthusiasts and general audiences. We are proud to show you some of the short films that have screened at the festival over the years. On FACEBOOK: On TWITTER: On INSTAGRAM: Our WEBSITE: Sign up for our newsletter: ------ Please watch: \"Slasher Squad Short Horror FIlm Screamfest\" ------',\n",
       " 'Title: CGI Animated Shorts : \"Playmate\" - by Sen Liu & KunZhan Tao | TheCGBros\\nChannel: channel1\\nYear: 2014\\nDescription: Check out this final year graduation short film by the talented by Sen Liu KunZhan Tao! The aim of this project is to create high quality 3D short Animation which is of a showcase material. Except rigging and music, all the animation modeling, lighting, texture and composting was created by Sen and his partner Tank. For more information, please see the details and links below: This short film took us 6 months to create.',\n",
       " 'Title: CGI 3D VFX Titles : \"Offf Paris\" by - The Mill\\nChannel: channel1\\nYear: 2013\\nDescription: Here is a really great example of finesse in graphic title design and treatment with these stylized credits created for Offf Paris by the great talent over at The Mill. Be sure to check them out here:',\n",
       " 'Title: THE INVISIBLE MAN | Omeleto\\nChannel: channel29\\nYear: 2018\\nDescription: Two drug traffickers play Russian roulette. THE INVISIBLE MAN is used with permission from Hugo Keijzer. Learn more at Low-level drug traffickers, Nick and Kid, have half a million euros in heroine stashed in an upstate barn. But they also have a debt to pay -- to a canny operator named Frank, who suddenly turns up at their hideout looking to collect. When they don\\'t pony up, they\\'re obliged to settle their score with a tense game of Russian roulette -- and each round brings up a secret about each person in the room. Absurd, profane, funny and suspenseful, this short drama would be enjoyable for its top-notch performances and well-paced script. But THE INVISIBLE MAN leverages the unique qualities of VR to create a puzzlebox of a narrative. How does Frank know where the bullet is? And just who is the \"invisible man\"? The viewer can explore the immersive image to search out clues -- it might take a few views, but the answers are literally all around you.',\n",
       " 'Title: CGI & VFX Showreels: \"TV Animation Reel\" - by Owen Fern | TheCGBros\\nChannel: channel1\\nYear: 2019\\nDescription: Check out this latest showreel from the talented Owen Fern. Some of my favorite stuff that I\\'ve worked on in my time at Blue Zoo so far. Responsible for all animation. Quota was around 6 secondsday for the TV work. For more information, please see the details and links below: Breakdown: Lynx and Birds - Blue Zoo (Short Film) Numberblocks - Blue Zoo (TV Series) Go Jetters - Blue Zoo (TV Series) Credits-Contributors: Owen Fern Go Jetters is a BBC Childrens Production and BBC Worldwide Production in association with Blue Zoo Animation Watch More CGI VFX Showreels HERE WHO EXACTLY ARE THECGBROS? CLICK TO FIND OUT Web - TheCGBros YouTube Facebook Twitter Pinterest Tumblr Need some production equipment for your videos? Check out TheCGBros Suggests! TheCGBros have permission to broadcast this video and or it is part of Creative Commons the If you believe this video should not be broadcast on our channel, please contact']"
      ]
     },
     "execution_count": 29,
     "metadata": {},
     "output_type": "execute_result"
    }
   ],
   "source": []
  },
  {
   "cell_type": "code",
   "execution_count": null,
   "metadata": {},
   "outputs": [],
   "source": []
  }
 ],
 "metadata": {
  "kernelspec": {
   "display_name": "Python (challenge)",
   "language": "python",
   "name": "challenge"
  },
  "language_info": {
   "codemirror_mode": {
    "name": "ipython",
    "version": 3
   },
   "file_extension": ".py",
   "mimetype": "text/x-python",
   "name": "python",
   "nbconvert_exporter": "python",
   "pygments_lexer": "ipython3",
   "version": "3.12.9"
  }
 },
 "nbformat": 4,
 "nbformat_minor": 2
}

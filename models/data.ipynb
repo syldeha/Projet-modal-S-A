{
 "cells": [
  {
   "cell_type": "code",
   "execution_count": null,
   "metadata": {},
   "outputs": [],
   "source": [
    "#CONSTRUCTION DU DATAFRAME POUR L'ENTRAINEMENT DE NOTRE MODELE \n",
    "dataframe {\n",
    "    \"id\": int, #pour recuperer l'image\n",
    "    \"channel\" : str , (conserver ce channels)\n",
    "    \"channel_real_name\" : str, #nom du channel (chaine 1, chaine 2, chaine 3, etc) --- A ajouter\n",
    "    \"title\" : str, #titre de l'image\n",
    "    \"description\" : str, #description de l'image\n",
    "    \"date\" : str, #date de publication\n",
    "    \"global views\" : str , # classification faire 5 classes(de 0 à 10000, ) à ajouter (trouver les bons mots pour qualifier)\n",
    "    \"year\" : str, \n",
    "}\n",
    "\n",
    "#construction du dataset : \n",
    "# Format du dictionnaire à retourner  : \n",
    "{\n",
    "    \"image\": array, #image\n",
    "    \"channel_real_name\": str, #nom du channel de l'image\n",
    "    \"title\": str, #titre de l'image\n",
    "    \"description\": str, #description de l'image\n",
    "    \"global views\": str, #classification faire 5 classes(de 0 à 10000, ) à ajouter (trouver les bons mots pour qualifier)\n",
    "    \"year\": str, #année de publication\n",
    "}\n",
    "# Le dataset doit retourner tous les champts mentionnés.\n",
    "\n",
    "\n",
    "#CONSTRUCTION DU PROMPT :[SYLVAIN]\n",
    "\n",
    "\n"
   ]
  }
 ],
 "metadata": {
  "language_info": {
   "name": "python"
  }
 },
 "nbformat": 4,
 "nbformat_minor": 2
}
